{
 "cells": [
  {
   "cell_type": "code",
   "execution_count": 1,
   "id": "31fc05b4",
   "metadata": {
    "scrolled": true
   },
   "outputs": [],
   "source": [
    "from ipyleaflet import *\n",
    "import requests\n",
    "import urllib.parse as parse\n",
    "\n",
    "addresses_filename = 'addresses.txt'\n",
    "addresses = []\n",
    "\n",
    "# Parse a line of full address to extract useful info.\n",
    "# This helps improve geocoding performance.\n",
    "# Returns dict with keys \"full_address\", \"street_address\", \"city\"\n",
    "def parse_address(full_address):\n",
    "    # Format: 150 Eglinton Avenue E, Suite 404 Toronto ON M4P 1E8\n",
    "    try:\n",
    "        split = line.rstrip().split(', ')\n",
    "        street_address = split[0]\n",
    "        city = split[-1].split()[-4]\n",
    "        address = {'full_address': full_address,\n",
    "                   'street_address': street_address, \n",
    "                   'city': city}\n",
    "        return address\n",
    "    except:\n",
    "        print('Error parsing \"{}\".\\n'.format(line))\n",
    "\n",
    "# Look up the coordinates of an address.\n",
    "# This is done by a selected geocoding API service.\n",
    "# Returns tuple (latitude, longitude)\n",
    "# Other APIs to consider: Nominatim\n",
    "def lookup(address, api = 'positionstack'):\n",
    "    if api == 'positionstack': # positionstack.com\n",
    "        geocoding_base_url = 'http://api.positionstack.com/v1/forward?'\n",
    "        geocoding_api_key = '109dccf957524b1ae1aa551a1ecc0138'\n",
    "        params = {'access_key': geocoding_api_key, \n",
    "                  'query': address['street_address'], \n",
    "                  'region': address['city']}\n",
    "        geocoding_url = geocoding_base_url + parse.urlencode(params)\n",
    "        # print(\"Quering {}\\n\".format(address['street_address']))\n",
    "        try:\n",
    "            response = requests.get(geocoding_url)\n",
    "            location = response.json()['data'][0] # select the first result\n",
    "            return (location['latitude'], location['longitude'])\n",
    "        except:\n",
    "            print('Error finding \"{}\".\\n'.format(address['street_address']))\n",
    "\n",
    "# Draw address on map.\n",
    "def draw_address(address, m):\n",
    "    coordinate = (address['latitude'], address['longitude'])\n",
    "    marker = Marker(location = coordinate, \n",
    "                    draggable = False, \n",
    "                    title = address['full_address'])\n",
    "    m.add_layer(marker)\n"
   ]
  },
  {
   "cell_type": "code",
   "execution_count": 2,
   "id": "e2249e1c",
   "metadata": {},
   "outputs": [],
   "source": [
    "# Read file and populate addresses list.\n",
    "\n",
    "with open(addresses_filename) as file:\n",
    "    for line in file:\n",
    "        address = parse_address(line)\n",
    "        addresses.append(address)\n",
    "\n",
    "for address in addresses:\n",
    "    location = lookup(address)\n",
    "    address['latitude'] = location[0]\n",
    "    address['longitude'] = location[1]\n",
    "    # print(\"Found coordinate {}, {}\\n\".format(location[0], location[1]))\n"
   ]
  },
  {
   "cell_type": "code",
   "execution_count": 3,
   "id": "c2691df1",
   "metadata": {},
   "outputs": [
    {
     "data": {
      "application/vnd.jupyter.widget-view+json": {
       "model_id": "5922a2f6d30840e1bfa4d3918905a03d",
       "version_major": 2,
       "version_minor": 0
      },
      "text/plain": [
       "Map(center=[43.707906, -79.394007], controls=(ZoomControl(options=['position', 'zoom_in_text', 'zoom_in_title'…"
      ]
     },
     "metadata": {},
     "output_type": "display_data"
    }
   ],
   "source": [
    "# Draw addresses on map.\n",
    "\n",
    "# TODO: find a suitable center and zoom. Check ipyleaflet.leaflet.Map.fit_bounds()\n",
    "center = (addresses[0]['latitude'], addresses[0]['longitude'])\n",
    "zoom = 10\n",
    "m = Map(basemap = basemaps.Esri.WorldStreetMap, center = center, zoom = zoom)\n",
    "\n",
    "for address in addresses:\n",
    "    draw_address(address, m)\n",
    "    \n",
    "display(m)\n"
   ]
  },
  {
   "cell_type": "code",
   "execution_count": null,
   "id": "5ad02372",
   "metadata": {},
   "outputs": [],
   "source": []
  }
 ],
 "metadata": {
  "kernelspec": {
   "display_name": "Python 3 (ipykernel)",
   "language": "python",
   "name": "python3"
  },
  "language_info": {
   "codemirror_mode": {
    "name": "ipython",
    "version": 3
   },
   "file_extension": ".py",
   "mimetype": "text/x-python",
   "name": "python",
   "nbconvert_exporter": "python",
   "pygments_lexer": "ipython3",
   "version": "3.9.12"
  },
  "widgets": {
   "application/vnd.jupyter.widget-state+json": {
    "state": {
     "05ba00afb80143199b0e84e7a44fb995": {
      "model_module": "jupyter-leaflet",
      "model_module_version": "^0.17",
      "model_name": "LeafletMarkerModel",
      "state": {
       "_model_module_version": "^0.17",
       "_view_module_version": "^0.17",
       "draggable": false,
       "location": [
        43.608151,
        -79.557312
       ],
       "options": [
        "alt",
        "draggable",
        "keyboard",
        "rise_offset",
        "rise_on_hover",
        "rotation_angle",
        "rotation_origin",
        "title",
        "z_index_offset"
       ],
       "title": "703 Evans Avenue, Suite 103 Toronto ON M9C 5E9\n"
      }
     },
     "07d034a33bf64d13b14d446b16f70d3f": {
      "model_module": "jupyter-leaflet",
      "model_module_version": "^0.17",
      "model_name": "LeafletMarkerModel",
      "state": {
       "_model_module_version": "^0.17",
       "_view_module_version": "^0.17",
       "draggable": false,
       "location": [
        43.650491,
        -79.377392
       ],
       "options": [
        "alt",
        "draggable",
        "keyboard",
        "rise_offset",
        "rise_on_hover",
        "rotation_angle",
        "rotation_origin",
        "title",
        "z_index_offset"
       ],
       "title": "25 Adelaide Street E, Suite 100 Toronto ON M5C 3A1\n"
      }
     },
     "2679684ba3194ad9b081299e77910fad": {
      "model_module": "jupyter-leaflet",
      "model_module_version": "^0.17",
      "model_name": "LeafletMarkerModel",
      "state": {
       "_model_module_version": "^0.17",
       "_view_module_version": "^0.17",
       "draggable": false,
       "location": [
        43.68275,
        -79.278647
       ],
       "options": [
        "alt",
        "draggable",
        "keyboard",
        "rise_offset",
        "rise_on_hover",
        "rotation_angle",
        "rotation_origin",
        "title",
        "z_index_offset"
       ],
       "title": "1232 Kingston Road, Suite 102 Toronto ON M1N 1P3\n"
      }
     },
     "463f611e6d2647c1ac43d2825d488187": {
      "model_module": "jupyter-leaflet",
      "model_module_version": "^0.17",
      "model_name": "LeafletMarkerModel",
      "state": {
       "_model_module_version": "^0.17",
       "_view_module_version": "^0.17",
       "draggable": false,
       "location": [
        43.707906,
        -79.394007
       ],
       "options": [
        "alt",
        "draggable",
        "keyboard",
        "rise_offset",
        "rise_on_hover",
        "rotation_angle",
        "rotation_origin",
        "title",
        "z_index_offset"
       ],
       "title": "150 Eglinton Avenue E, Suite 404 Toronto ON M4P 1E8\n"
      }
     },
     "4912c37229ec46109948445ffdebf2e5": {
      "model_module": "jupyter-leaflet",
      "model_module_version": "^0.17",
      "model_name": "LeafletMapStyleModel",
      "state": {
       "_model_module_version": "^0.17"
      }
     },
     "51456de4f69e4927ba89624d73dd0d00": {
      "model_module": "jupyter-leaflet",
      "model_module_version": "^0.17",
      "model_name": "LeafletMarkerModel",
      "state": {
       "_model_module_version": "^0.17",
       "_view_module_version": "^0.17",
       "draggable": false,
       "location": [
        43.7603,
        -79.411024
       ],
       "options": [
        "alt",
        "draggable",
        "keyboard",
        "rise_offset",
        "rise_on_hover",
        "rotation_angle",
        "rotation_origin",
        "title",
        "z_index_offset"
       ],
       "title": "4750 Yonge St, Suite 356 Toronto ON M2N 0J6\n"
      }
     },
     "559ba4db3544466fa938c8a40ca14a8b": {
      "model_module": "jupyter-leaflet",
      "model_module_version": "^0.17",
      "model_name": "LeafletMarkerModel",
      "state": {
       "_model_module_version": "^0.17",
       "_view_module_version": "^0.17",
       "draggable": false,
       "location": [
        43.671486,
        -79.384936
       ],
       "options": [
        "alt",
        "draggable",
        "keyboard",
        "rise_offset",
        "rise_on_hover",
        "rotation_angle",
        "rotation_origin",
        "title",
        "z_index_offset"
       ],
       "title": "2 Bloor Street E, Unit C11 Toronto ON M4W 1A8\n"
      }
     },
     "5922a2f6d30840e1bfa4d3918905a03d": {
      "model_module": "jupyter-leaflet",
      "model_module_version": "^0.17",
      "model_name": "LeafletMapModel",
      "state": {
       "_model_module_version": "^0.17",
       "_view_module_version": "^0.17",
       "bottom": 95816,
       "center": [
        43.707906,
        -79.394007
       ],
       "controls": [
        "IPY_MODEL_793d269d9a6049df8caa1785fbb414db",
        "IPY_MODEL_abc066c374724b6fb447ac8aa2e29fad"
       ],
       "default_style": "IPY_MODEL_d479828ec54f4851b1c3e4e2940ff874",
       "dragging_style": "IPY_MODEL_b7d4fa310a5a41f8951da45241c08168",
       "east": -78.71978759765625,
       "fullscreen": false,
       "interpolation": "bilinear",
       "layers": [
        "IPY_MODEL_e8ff8c4a31424f27bc00ca7aa9be9c70",
        "IPY_MODEL_463f611e6d2647c1ac43d2825d488187",
        "IPY_MODEL_2679684ba3194ad9b081299e77910fad",
        "IPY_MODEL_ad3fd5b9bc144140873d49cc0c8de881",
        "IPY_MODEL_779e58c3fa614ac4b2af6c768b5a7cad",
        "IPY_MODEL_fdc7f97654354b2493ffd53723c05734",
        "IPY_MODEL_797788847680496e84c294e8295b8d2e",
        "IPY_MODEL_87890eefddc3492195a54ab5c074cdae",
        "IPY_MODEL_b0d6c65b239348818c6db81dab8f7034",
        "IPY_MODEL_a5334510319c4fb5bbfb7c383ba33ed3",
        "IPY_MODEL_05ba00afb80143199b0e84e7a44fb995",
        "IPY_MODEL_f72b10dfd4d54eb8ab8053df90522198",
        "IPY_MODEL_c51bc85d3f1447d2972d56ae4310779f",
        "IPY_MODEL_a21e207732c144babaa48c7cba238567",
        "IPY_MODEL_dffb81770db3413f90ced476c95f404f",
        "IPY_MODEL_84c0bb2b440f449ba615428300f22424",
        "IPY_MODEL_559ba4db3544466fa938c8a40ca14a8b",
        "IPY_MODEL_07d034a33bf64d13b14d446b16f70d3f",
        "IPY_MODEL_d553902c80ec4edfb1fca5f28d989a6f",
        "IPY_MODEL_f5b4d9f8e51540c481fcab146049a3b9",
        "IPY_MODEL_51456de4f69e4927ba89624d73dd0d00",
        "IPY_MODEL_731b29d7433d4f30aa32fbe4905872a0"
       ],
       "layout": "IPY_MODEL_f3dcac653f164f4080a338da24cea8b8",
       "left": 72769,
       "modisdate": "2023-02-19",
       "north": 43.9058083561574,
       "options": [
        "bounce_at_zoom_limits",
        "box_zoom",
        "center",
        "close_popup_on_click",
        "double_click_zoom",
        "dragging",
        "fullscreen",
        "inertia",
        "inertia_deceleration",
        "inertia_max_speed",
        "interpolation",
        "keyboard",
        "keyboard_pan_offset",
        "keyboard_zoom_offset",
        "max_zoom",
        "min_zoom",
        "prefer_canvas",
        "scroll_wheel_zoom",
        "tap",
        "tap_tolerance",
        "touch_zoom",
        "world_copy_jump",
        "zoom",
        "zoom_animation_threshold",
        "zoom_delta",
        "zoom_snap"
       ],
       "prefer_canvas": false,
       "right": 73750,
       "south": 43.50872101129687,
       "style": "IPY_MODEL_4912c37229ec46109948445ffdebf2e5",
       "top": 95416,
       "west": -80.06698608398439,
       "window_url": "http://localhost:8888/notebooks/Develop/Data%20science/addresses-to-map/addresses-to-map.ipynb#",
       "zoom": 10
      }
     },
     "731b29d7433d4f30aa32fbe4905872a0": {
      "model_module": "jupyter-leaflet",
      "model_module_version": "^0.17",
      "model_name": "LeafletMarkerModel",
      "state": {
       "_model_module_version": "^0.17",
       "_view_module_version": "^0.17",
       "draggable": false,
       "location": [
        43.797057,
        -79.419488
       ],
       "options": [
        "alt",
        "draggable",
        "keyboard",
        "rise_offset",
        "rise_on_hover",
        "rotation_angle",
        "rotation_origin",
        "title",
        "z_index_offset"
       ],
       "title": "6365 Yonge St., Suite 202 Toronto ON M2M 3X8"
      }
     },
     "779e58c3fa614ac4b2af6c768b5a7cad": {
      "model_module": "jupyter-leaflet",
      "model_module_version": "^0.17",
      "model_name": "LeafletMarkerModel",
      "state": {
       "_model_module_version": "^0.17",
       "_view_module_version": "^0.17",
       "draggable": false,
       "location": [
        46.528798,
        -84.351689
       ],
       "options": [
        "alt",
        "draggable",
        "keyboard",
        "rise_offset",
        "rise_on_hover",
        "rotation_angle",
        "rotation_origin",
        "title",
        "z_index_offset"
       ],
       "title": "339 Bloor Street W, Suite 217 Toronto ON M5S 1W7\n"
      }
     },
     "793d269d9a6049df8caa1785fbb414db": {
      "model_module": "jupyter-leaflet",
      "model_module_version": "^0.17",
      "model_name": "LeafletZoomControlModel",
      "state": {
       "_model_module_version": "^0.17",
       "_view_module_version": "^0.17",
       "options": [
        "position",
        "zoom_in_text",
        "zoom_in_title",
        "zoom_out_text",
        "zoom_out_title"
       ]
      }
     },
     "797788847680496e84c294e8295b8d2e": {
      "model_module": "jupyter-leaflet",
      "model_module_version": "^0.17",
      "model_name": "LeafletMarkerModel",
      "state": {
       "_model_module_version": "^0.17",
       "_view_module_version": "^0.17",
       "draggable": false,
       "location": [
        43.707054,
        -79.397518
       ],
       "options": [
        "alt",
        "draggable",
        "keyboard",
        "rise_offset",
        "rise_on_hover",
        "rotation_angle",
        "rotation_origin",
        "title",
        "z_index_offset"
       ],
       "title": "20 Eglinton Avenue East, Unit 440 Toronto ON M4P 1A9\n"
      }
     },
     "84c0bb2b440f449ba615428300f22424": {
      "model_module": "jupyter-leaflet",
      "model_module_version": "^0.17",
      "model_name": "LeafletMarkerModel",
      "state": {
       "_model_module_version": "^0.17",
       "_view_module_version": "^0.17",
       "draggable": false,
       "location": [
        43.661527,
        -79.382587
       ],
       "options": [
        "alt",
        "draggable",
        "keyboard",
        "rise_offset",
        "rise_on_hover",
        "rotation_angle",
        "rotation_origin",
        "title",
        "z_index_offset"
       ],
       "title": "2 Carlton Street, Unit 1503 Toronto ON M5B 1J3\n"
      }
     },
     "87890eefddc3492195a54ab5c074cdae": {
      "model_module": "jupyter-leaflet",
      "model_module_version": "^0.17",
      "model_name": "LeafletMarkerModel",
      "state": {
       "_model_module_version": "^0.17",
       "_view_module_version": "^0.17",
       "draggable": false,
       "location": [
        43.71383,
        -79.453837
       ],
       "options": [
        "alt",
        "draggable",
        "keyboard",
        "rise_offset",
        "rise_on_hover",
        "rotation_angle",
        "rotation_origin",
        "title",
        "z_index_offset"
       ],
       "title": "783 Lawrence Avenue West, 2nd floor, Suite 11 Toronto ON M6A 1C2\n"
      }
     },
     "a21e207732c144babaa48c7cba238567": {
      "model_module": "jupyter-leaflet",
      "model_module_version": "^0.17",
      "model_name": "LeafletMarkerModel",
      "state": {
       "_model_module_version": "^0.17",
       "_view_module_version": "^0.17",
       "draggable": false,
       "location": [
        43.645937,
        -79.523508
       ],
       "options": [
        "alt",
        "draggable",
        "keyboard",
        "rise_offset",
        "rise_on_hover",
        "rotation_angle",
        "rotation_origin",
        "title",
        "z_index_offset"
       ],
       "title": "1243 Islington Avenue, Suite 709 Toronto ON M8X 1Y9\n"
      }
     },
     "a5334510319c4fb5bbfb7c383ba33ed3": {
      "model_module": "jupyter-leaflet",
      "model_module_version": "^0.17",
      "model_name": "LeafletMarkerModel",
      "state": {
       "_model_module_version": "^0.17",
       "_view_module_version": "^0.17",
       "draggable": false,
       "location": [
        43.721053,
        -79.332117
       ],
       "options": [
        "alt",
        "draggable",
        "keyboard",
        "rise_offset",
        "rise_on_hover",
        "rotation_angle",
        "rotation_origin",
        "title",
        "z_index_offset"
       ],
       "title": "150 Ferrand Drive, Unit 1000 Toronto ON M3C 3E5\n"
      }
     },
     "abc066c374724b6fb447ac8aa2e29fad": {
      "model_module": "jupyter-leaflet",
      "model_module_version": "^0.17",
      "model_name": "LeafletAttributionControlModel",
      "state": {
       "_model_module_version": "^0.17",
       "_view_module_version": "^0.17",
       "options": [
        "position",
        "prefix"
       ],
       "position": "bottomright",
       "prefix": "ipyleaflet"
      }
     },
     "ad3fd5b9bc144140873d49cc0c8de881": {
      "model_module": "jupyter-leaflet",
      "model_module_version": "^0.17",
      "model_name": "LeafletMarkerModel",
      "state": {
       "_model_module_version": "^0.17",
       "_view_module_version": "^0.17",
       "draggable": false,
       "location": [
        46.529154,
        -84.351746
       ],
       "options": [
        "alt",
        "draggable",
        "keyboard",
        "rise_offset",
        "rise_on_hover",
        "rotation_angle",
        "rotation_origin",
        "title",
        "z_index_offset"
       ],
       "title": "344 Bloor Street W, Suite 609 Toronto ON M5S 3A7\n"
      }
     },
     "b0d6c65b239348818c6db81dab8f7034": {
      "model_module": "jupyter-leaflet",
      "model_module_version": "^0.17",
      "model_name": "LeafletMarkerModel",
      "state": {
       "_model_module_version": "^0.17",
       "_view_module_version": "^0.17",
       "draggable": false,
       "location": [
        43.764257,
        -79.488541
       ],
       "options": [
        "alt",
        "draggable",
        "keyboard",
        "rise_offset",
        "rise_on_hover",
        "rotation_angle",
        "rotation_origin",
        "title",
        "z_index_offset"
       ],
       "title": "1280 Finch Avenue W, Suite 417 Toronto ON M3J 3K6\n"
      }
     },
     "b7d4fa310a5a41f8951da45241c08168": {
      "model_module": "jupyter-leaflet",
      "model_module_version": "^0.17",
      "model_name": "LeafletMapStyleModel",
      "state": {
       "_model_module_version": "^0.17",
       "cursor": "move"
      }
     },
     "c51bc85d3f1447d2972d56ae4310779f": {
      "model_module": "jupyter-leaflet",
      "model_module_version": "^0.17",
      "model_name": "LeafletMarkerModel",
      "state": {
       "_model_module_version": "^0.17",
       "_view_module_version": "^0.17",
       "draggable": false,
       "location": [
        43.7603,
        -79.411024
       ],
       "options": [
        "alt",
        "draggable",
        "keyboard",
        "rise_offset",
        "rise_on_hover",
        "rotation_angle",
        "rotation_origin",
        "title",
        "z_index_offset"
       ],
       "title": "4750 Yonge Street, Unit 346 Toronto ON M2N 0J6\n"
      }
     },
     "d479828ec54f4851b1c3e4e2940ff874": {
      "model_module": "jupyter-leaflet",
      "model_module_version": "^0.17",
      "model_name": "LeafletMapStyleModel",
      "state": {
       "_model_module_version": "^0.17"
      }
     },
     "d553902c80ec4edfb1fca5f28d989a6f": {
      "model_module": "jupyter-leaflet",
      "model_module_version": "^0.17",
      "model_name": "LeafletMarkerModel",
      "state": {
       "_model_module_version": "^0.17",
       "_view_module_version": "^0.17",
       "draggable": false,
       "location": [
        44.230139,
        -76.503576
       ],
       "options": [
        "alt",
        "draggable",
        "keyboard",
        "rise_offset",
        "rise_on_hover",
        "rotation_angle",
        "rotation_origin",
        "title",
        "z_index_offset"
       ],
       "title": "15 Toronto Street, Suite 302 Toronto ON M5C 2E3\n"
      }
     },
     "dffb81770db3413f90ced476c95f404f": {
      "model_module": "jupyter-leaflet",
      "model_module_version": "^0.17",
      "model_name": "LeafletMarkerModel",
      "state": {
       "_model_module_version": "^0.17",
       "_view_module_version": "^0.17",
       "draggable": false,
       "location": [
        44.151283,
        -79.574096
       ],
       "options": [
        "alt",
        "draggable",
        "keyboard",
        "rise_offset",
        "rise_on_hover",
        "rotation_angle",
        "rotation_origin",
        "title",
        "z_index_offset"
       ],
       "title": "3342A Yonge Street, 2nd floor Toronto ON M4N 2M4\n"
      }
     },
     "e8ff8c4a31424f27bc00ca7aa9be9c70": {
      "model_module": "jupyter-leaflet",
      "model_module_version": "^0.17",
      "model_name": "LeafletTileLayerModel",
      "state": {
       "_model_module_version": "^0.17",
       "_view_module_version": "^0.17",
       "attribution": "Tiles &copy; Esri &mdash; Source: Esri, DeLorme, NAVTEQ, USGS, Intermap, iPC, NRCAN, Esri Japan, METI, Esri China (Hong Kong), Esri (Thailand), TomTom, 2012",
       "base": true,
       "min_zoom": 1,
       "name": "Esri.WorldStreetMap",
       "options": [
        "attribution",
        "bounds",
        "detect_retina",
        "max_native_zoom",
        "max_zoom",
        "min_native_zoom",
        "min_zoom",
        "no_wrap",
        "tile_size",
        "tms",
        "zoom_offset"
       ],
       "url": "https://server.arcgisonline.com/ArcGIS/rest/services/World_Street_Map/MapServer/tile/{z}/{y}/{x}"
      }
     },
     "f3dcac653f164f4080a338da24cea8b8": {
      "model_module": "@jupyter-widgets/base",
      "model_module_version": "1.2.0",
      "model_name": "LayoutModel",
      "state": {}
     },
     "f5b4d9f8e51540c481fcab146049a3b9": {
      "model_module": "jupyter-leaflet",
      "model_module_version": "^0.17",
      "model_name": "LeafletMarkerModel",
      "state": {
       "_model_module_version": "^0.17",
       "_view_module_version": "^0.17",
       "draggable": false,
       "location": [
        45.391636,
        -75.754045
       ],
       "options": [
        "alt",
        "draggable",
        "keyboard",
        "rise_offset",
        "rise_on_hover",
        "rotation_angle",
        "rotation_origin",
        "title",
        "z_index_offset"
       ],
       "title": "2942 Danforth Avenue, Toronto ON M4C 1M5\n"
      }
     },
     "f72b10dfd4d54eb8ab8053df90522198": {
      "model_module": "jupyter-leaflet",
      "model_module_version": "^0.17",
      "model_name": "LeafletMarkerModel",
      "state": {
       "_model_module_version": "^0.17",
       "_view_module_version": "^0.17",
       "draggable": false,
       "location": [
        43.789433,
        -79.236739
       ],
       "options": [
        "alt",
        "draggable",
        "keyboard",
        "rise_offset",
        "rise_on_hover",
        "rotation_angle",
        "rotation_origin",
        "title",
        "z_index_offset"
       ],
       "title": "305 Milner Avenue, Suite 900 Toronto ON M3B 2R7\n"
      }
     },
     "fdc7f97654354b2493ffd53723c05734": {
      "model_module": "jupyter-leaflet",
      "model_module_version": "^0.17",
      "model_name": "LeafletMarkerModel",
      "state": {
       "_model_module_version": "^0.17",
       "_view_module_version": "^0.17",
       "draggable": false,
       "location": [
        45.000528,
        -74.990219
       ],
       "options": [
        "alt",
        "draggable",
        "keyboard",
        "rise_offset",
        "rise_on_hover",
        "rotation_angle",
        "rotation_origin",
        "title",
        "z_index_offset"
       ],
       "title": "2 College Street, Unit 208 Toronto ON M5G 1K3\n"
      }
     }
    },
    "version_major": 2,
    "version_minor": 0
   }
  }
 },
 "nbformat": 4,
 "nbformat_minor": 5
}
